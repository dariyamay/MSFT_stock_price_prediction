{
  "nbformat": 4,
  "nbformat_minor": 0,
  "metadata": {
    "colab": {
      "name": "Untitled6.ipynb",
      "provenance": [],
      "collapsed_sections": []
    },
    "kernelspec": {
      "name": "python3",
      "display_name": "Python 3"
    }
  },
  "cells": [
    {
      "cell_type": "code",
      "metadata": {
        "id": "F0ptowkrJ9XV"
      },
      "source": [
        "import numpy as np \r\n",
        "import pandas as pd \r\n",
        "import matplotlib.pyplot as plt\r\n",
        "from pandas import datetime\r\n",
        "from pandas.plotting import lag_plot\r\n",
        "\r\n",
        "from statsmodels.tsa.arima_model import ARIMA\r\n",
        "from sklearn.metrics import mean_squared_error\r\n",
        "import io\r\n"
      ],
      "execution_count": 13,
      "outputs": []
    },
    {
      "cell_type": "code",
      "metadata": {
        "id": "croyDtSKq4W7"
      },
      "source": [
        "df = pd.read_csv(io.BytesIO(uploaded['MSFT.csv']))\r\n"
      ],
      "execution_count": 8,
      "outputs": []
    },
    {
      "cell_type": "code",
      "metadata": {
        "colab": {
          "base_uri": "https://localhost:8080/",
          "height": 194
        },
        "id": "tPwYbQ6MrPc1",
        "outputId": "5814160c-51be-4a86-f9e2-a4c131c26f23"
      },
      "source": [
        "df.head(5)"
      ],
      "execution_count": 9,
      "outputs": [
        {
          "output_type": "execute_result",
          "data": {
            "text/html": [
              "<div>\n",
              "<style scoped>\n",
              "    .dataframe tbody tr th:only-of-type {\n",
              "        vertical-align: middle;\n",
              "    }\n",
              "\n",
              "    .dataframe tbody tr th {\n",
              "        vertical-align: top;\n",
              "    }\n",
              "\n",
              "    .dataframe thead th {\n",
              "        text-align: right;\n",
              "    }\n",
              "</style>\n",
              "<table border=\"1\" class=\"dataframe\">\n",
              "  <thead>\n",
              "    <tr style=\"text-align: right;\">\n",
              "      <th></th>\n",
              "      <th>Date</th>\n",
              "      <th>Open</th>\n",
              "      <th>High</th>\n",
              "      <th>Low</th>\n",
              "      <th>Close</th>\n",
              "      <th>Adj Close</th>\n",
              "      <th>Volume</th>\n",
              "    </tr>\n",
              "  </thead>\n",
              "  <tbody>\n",
              "    <tr>\n",
              "      <th>0</th>\n",
              "      <td>2012-01-25</td>\n",
              "      <td>29.070000</td>\n",
              "      <td>29.650000</td>\n",
              "      <td>29.07</td>\n",
              "      <td>29.559999</td>\n",
              "      <td>24.071209</td>\n",
              "      <td>59231700</td>\n",
              "    </tr>\n",
              "    <tr>\n",
              "      <th>1</th>\n",
              "      <td>2012-01-26</td>\n",
              "      <td>29.610001</td>\n",
              "      <td>29.700001</td>\n",
              "      <td>29.40</td>\n",
              "      <td>29.500000</td>\n",
              "      <td>24.022350</td>\n",
              "      <td>49102800</td>\n",
              "    </tr>\n",
              "    <tr>\n",
              "      <th>2</th>\n",
              "      <td>2012-01-27</td>\n",
              "      <td>29.450001</td>\n",
              "      <td>29.530001</td>\n",
              "      <td>29.17</td>\n",
              "      <td>29.230000</td>\n",
              "      <td>23.802483</td>\n",
              "      <td>44187700</td>\n",
              "    </tr>\n",
              "    <tr>\n",
              "      <th>3</th>\n",
              "      <td>2012-01-30</td>\n",
              "      <td>28.969999</td>\n",
              "      <td>29.620001</td>\n",
              "      <td>28.83</td>\n",
              "      <td>29.610001</td>\n",
              "      <td>24.111927</td>\n",
              "      <td>51114800</td>\n",
              "    </tr>\n",
              "    <tr>\n",
              "      <th>4</th>\n",
              "      <td>2012-01-31</td>\n",
              "      <td>29.660000</td>\n",
              "      <td>29.700001</td>\n",
              "      <td>29.23</td>\n",
              "      <td>29.530001</td>\n",
              "      <td>24.046782</td>\n",
              "      <td>50572400</td>\n",
              "    </tr>\n",
              "  </tbody>\n",
              "</table>\n",
              "</div>"
            ],
            "text/plain": [
              "         Date       Open       High    Low      Close  Adj Close    Volume\n",
              "0  2012-01-25  29.070000  29.650000  29.07  29.559999  24.071209  59231700\n",
              "1  2012-01-26  29.610001  29.700001  29.40  29.500000  24.022350  49102800\n",
              "2  2012-01-27  29.450001  29.530001  29.17  29.230000  23.802483  44187700\n",
              "3  2012-01-30  28.969999  29.620001  28.83  29.610001  24.111927  51114800\n",
              "4  2012-01-31  29.660000  29.700001  29.23  29.530001  24.046782  50572400"
            ]
          },
          "metadata": {
            "tags": []
          },
          "execution_count": 9
        }
      ]
    },
    {
      "cell_type": "code",
      "metadata": {
        "id": "Pv73cc9zrbh2"
      },
      "source": [
        "train_data, test_data = df[0:int(len(df)*0.7)], df[int(len(df)*0.7):]\r\n",
        "\r\n",
        "training_data = train_data['Close'].values\r\n",
        "test_data = test_data['Close'].values\r\n",
        "history = [x for x in training_data]\r\n",
        "\r\n",
        "predictions = []\r\n",
        "N_test_observations = len(test_data)"
      ],
      "execution_count": 11,
      "outputs": []
    },
    {
      "cell_type": "code",
      "metadata": {
        "colab": {
          "base_uri": "https://localhost:8080/"
        },
        "id": "sd4SLIULrkJi",
        "outputId": "268de33b-9fd3-4005-f10b-cf4e23640f5f"
      },
      "source": [
        "for time_point in range(N_test_observations):\r\n",
        "    model = ARIMA(history, order=(6,1,0))\r\n",
        "    model_fit = model.fit(disp=0)\r\n",
        "    output = model_fit.forecast()\r\n",
        "    yhat = output[0]\r\n",
        "    predictions.append(yhat)\r\n",
        "    true_test_value = test_data[time_point]\r\n",
        "    history.append(true_test_value)\r\n",
        "MSE_error = mean_squared_error(test_data, predictions)\r\n",
        "print('Mean Squared Error is {}'.format(MSE_error))"
      ],
      "execution_count": 12,
      "outputs": [
        {
          "output_type": "stream",
          "text": [
            "Testing Mean Squared Error is 1.9076697321062412\n"
          ],
          "name": "stdout"
        }
      ]
    },
    {
      "cell_type": "code",
      "metadata": {
        "colab": {
          "base_uri": "https://localhost:8080/",
          "height": 296
        },
        "id": "7ln3SKc7rw-f",
        "outputId": "c86ab25b-e8e5-4f5f-fc19-d2a675ba1ae0"
      },
      "source": [
        "plt.plot(test_data, color='Red', label='Actual Microsoft Stock Price')\r\n",
        "plt.plot(predictions, color='Blue', label='Predicted Microsoft Stock Price')\r\n",
        "plt.title('Microsoft Stock Price Prediction')\r\n",
        "plt.xlabel('Time')\r\n",
        "plt.ylabel('Microsoft Stock Price')\r\n",
        "plt.legend()\r\n",
        "plt.show()"
      ],
      "execution_count": 14,
      "outputs": [
        {
          "output_type": "display_data",
          "data": {
            "image/png": "[encoded data removed]",
            "text/plain": [
              "<Figure size 432x288 with 1 Axes>"
            ]
          },
          "metadata": {
            "tags": [],
            "needs_background": "light"
          }
        }
      ]
    },
    {
      "cell_type": "code",
      "metadata": {
        "id": "zIHEHZ3csjT7"
      },
      "source": [
        ""
      ],
      "execution_count": null,
      "outputs": []
    }
  ]
}